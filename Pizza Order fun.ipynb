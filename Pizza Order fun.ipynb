{
  "nbformat": 4,
  "nbformat_minor": 0,
  "metadata": {
    "colab": {
      "name": "Williams Anosike DATA 690 Summer Project",
      "provenance": [],
      "collapsed_sections": []
    },
    "kernelspec": {
      "name": "python3",
      "display_name": "Python 3"
    }
  },
  "cells": [
    {
      "cell_type": "code",
      "metadata": {
        "id": "jAy8YaxDEJA5"
      },
      "source": [
        "class Pizza():\n",
        "\n",
        "  pizz_menu = {}\n",
        "\n",
        "  def __init__(self, pizzaname, toppings, price, crust_type):\n",
        "    self.pizzaname = pizzaname\n",
        "    self.toppings = toppings\n",
        "    self.crust_type = crust_type\n",
        "    \n",
        "    if len(toppings) >= 5 and len(toppings) < 10:\n",
        "      self.price = price + 5\n",
        "    elif len(toppings) < 5:\n",
        "      self.price = price + len(toppings)\n",
        "    elif len(toppings) > 10:\n",
        "      self.price = price + 10\n",
        "\n",
        "  def add_pizz(self, pizzaname):\n",
        "\n",
        "      if pizzaname not in Pizza.pizz_menu:\n",
        "        Pizza.pizz_menu[pizzaname] = [self.toppings, self.price, self.crust_type]\n",
        "      else:\n",
        "        print(\"This Pizza is already in the menu!\")\n",
        "    \n",
        "    \n",
        "  def add_toppings(self, to_add):\n",
        "    for i in to_add:\n",
        "      self.toppings.append(i)\n",
        "    \n",
        "  def update_price(self, price, toppings):\n",
        "    if len(toppings) >= 5 and len(toppings) < 10:\n",
        "      self.price = self.price + 5\n",
        "    elif len(toppings) > 10:\n",
        "      self.price = self.price + 10      \n",
        "    return self.price\n",
        "\n",
        "\n",
        "  "
      ],
      "execution_count": null,
      "outputs": []
    },
    {
      "cell_type": "code",
      "metadata": {
        "id": "MyPLeT4LQ8Ps"
      },
      "source": [
        "import datetime\n",
        "\n",
        "class PizzaOrder(Pizza):\n",
        "  \n",
        "  order_history = {}\n",
        "  order_num = 1\n",
        "\n",
        "  def __init__(self, customer, order_date, piz_store, promo_code, piz_order):\n",
        "    self.customer = customer\n",
        "    self.order_date = order_date\n",
        "    self.piz_store = piz_store\n",
        "    self.promo_code = promo_code\n",
        "    self.piz_order = piz_order\n",
        "    self.total_price = []\n",
        "    self.order_status = \"ORDER_CREATED\"\n",
        "\n",
        "  \n",
        "  def add_to_order(self, order):\n",
        "    for i in order:\n",
        "      self.piz_order.append(order)\n",
        "\n",
        "  def get_prices(self):\n",
        "    for i in self.piz_order:\n",
        "      if i in Pizza.pizz_menu:\n",
        "        self.total_price.append(Pizza.pizz_menu[i][1])\n",
        "      else:\n",
        "        pass\n",
        "    f = sum(self.total_price)\n",
        "    self.order_price = f\n",
        "    if self.promo_code == 5:\n",
        "      self.order_price = self.order_price * 0.95\n",
        "    elif self.promo_code == 10:\n",
        "      self.order_price = self.order_price * 0.90\n",
        "    elif self.promo_code == 15:\n",
        "      self.order_price = self.order_price * 0.85\n",
        "    elif self.promo_code == 20:\n",
        "      self.order_price = self.order_price * 0.80      \n",
        "    print(\"Sum of order is: \", self.order_price)\n",
        "    self.order_status = \"ORDER_READY\"\n",
        "    print(\"Order is ready...\")\n",
        "    e = input(\"Deliver order? Y/N: \")\n",
        "    if e == \"Y\":\n",
        "      self.order_status = \"ORDER_ON_DELIVERY\"\n",
        "    print(\"Order to be delivered...\")\n",
        "\n",
        "  def __del__(self):\n",
        "    print(\"Order Deleted!\")\n",
        "    if self.customer in order_history:\n",
        "      del PizzaOrder.order_history[self.customer]\n",
        "\n",
        "    self.order_status = \"ORDER_CANCELED\"\n",
        "\n",
        "  def clear_order(self):\n",
        "    self.piz_order = []\n",
        "\n",
        "  def complete_order(self):\n",
        "    s = input(\"Complete Order? Y/N: \")\n",
        "    if s == \"Y\":\n",
        "      PizzaOrder.order_history[PizzaOrder.order_num] = [self.customer, self.order_date, self.piz_store, self.piz_order, self.order_price]\n",
        "      PizzaOrder.order_num += 1\n",
        "      self.order_status = \"ORDER_COMPLETE\"\n",
        "\n",
        "  def search_order_date(date):\n",
        "    for i in PizzaOrder.order_history:\n",
        "      if PizzaOrder.order_history[i][1] == date:\n",
        "        print(PizzaOrder.order_history[i])\n",
        "      \n",
        "  def search_customer(customer):\n",
        "    for i in PizzaOrder.order_history:\n",
        "      if PizzaOrder.order_history[i][0] == customer:\n",
        "        print(PizzaOrder.order_history[i])    \n",
        "\n",
        "  def order_before_date(date):\n",
        "    for i in PizzaOrder.order_history:\n",
        "      if PizzaOrder.order_history[i][1] < date:\n",
        "        print(PizzaOrder.order_history[i])\n",
        "  \n",
        "  def order_after_date(date):\n",
        "    for i in PizzaOrder.order_history:\n",
        "      if PizzaOrder.order_history[i][1] > date:\n",
        "        print(PizzaOrder.order_history[i])    "
      ],
      "execution_count": null,
      "outputs": []
    },
    {
      "cell_type": "code",
      "metadata": {
        "id": "eXx_oXXbQcn4"
      },
      "source": [
        "class Store():\n",
        "\n",
        "  store_dict = {}\n",
        "\n",
        "  def __init__(self, address, zipcode, phone_num):\n",
        "    self.address = address\n",
        "    self.zipcode = zipcode\n",
        "    self.phone_num = phone_num\n",
        "    self.emp_list = []\n",
        "    if self.zipcode not in Store.store_dict:\n",
        "      Store.store_dict[self.zipcode] = [self.address, self.emp_list, self.phone_num]\n",
        "    else:\n",
        "      print(\"There is a store at this zipcode already!\")\n",
        "\n",
        "  def add_emp(self, name):\n",
        "    if self.zipcode in Store.store_dict:\n",
        "      Store.store_dict[self.zipcode][1].append(name)\n",
        "\n",
        "  def monthly_sales(self, month):\n",
        "    sales = 0\n",
        "    for i in PizzaOrder.order_history:\n",
        "      if PizzaOrder.order_history[i][1].month == month and PizzaOrder.order_history[i][2] == self.zipcode:\n",
        "        sales += PizzaOrder.order_history[i][4]\n",
        "    print(\"The total sales for the \",month,\" month of the store located at zipcode, \", str(self.zipcode) ,\" is: \", str(sales))\n",
        "\n",
        "class Employee():\n",
        "\n",
        "  def __init__(self, name):\n",
        "    self.name = name"
      ],
      "execution_count": null,
      "outputs": []
    },
    {
      "cell_type": "code",
      "metadata": {
        "id": "P-MBN7qlA5Fn"
      },
      "source": [
        "class Customer(Store):\n",
        "    \"\"\"The Customer who orders a pizza.\"\"\"\n",
        "\n",
        "    def __init__(self, cust_name, phone, zipcode, mileage):\n",
        "        self.cust_name = cust_name\n",
        "        self.phone = str(phone).strip()\n",
        "        self.zipcode = zipcode\n",
        "        self.mileage = mileage\n",
        "\n",
        "\n",
        "    def __repr__(self):\n",
        "        return \"Name: {}\\nPhone: {}\\nZipCode: {}\\nMileage: {}\".format(\n",
        "            self.cust_name,\n",
        "            self.phone,\n",
        "            self.zipcode,\n",
        "            self.mileage,\n",
        "        )\n",
        "    \n",
        "    def find_store(self):\n",
        "      for i in Store.store_dict:\n",
        "        if i == self.zipcode:\n",
        "          print(\"Found a store at your location!\")\n",
        "          print(\"This store's address is: \", Store.store_dict[i][0])\n"
      ],
      "execution_count": null,
      "outputs": []
    },
    {
      "cell_type": "markdown",
      "metadata": {
        "id": "l0hx26AeOs5E"
      },
      "source": [
        "Creating a pizza and generating its price based on the number of toppings and the crust."
      ]
    },
    {
      "cell_type": "code",
      "metadata": {
        "id": "MgUa662jloed"
      },
      "source": [
        "pineapple_pizza = Pizza(\"Pineapple Pizza\", [\"a\",\"b\",\"c\",\"d\"], 25, \"thin\")"
      ],
      "execution_count": null,
      "outputs": []
    },
    {
      "cell_type": "code",
      "metadata": {
        "id": "vGSyGwMNl8pF",
        "colab": {
          "base_uri": "https://localhost:8080/",
          "height": 35
        },
        "outputId": "dd5f84f4-b323-4d27-f703-0c3a95a30dec"
      },
      "source": [
        "pineapple_pizza.price"
      ],
      "execution_count": null,
      "outputs": [
        {
          "output_type": "execute_result",
          "data": {
            "text/plain": [
              "29"
            ]
          },
          "metadata": {
            "tags": []
          },
          "execution_count": 6
        }
      ]
    },
    {
      "cell_type": "code",
      "metadata": {
        "id": "npuimVdLmaWX"
      },
      "source": [
        "pineapple_pizza.add_toppings([\"h\",\"i\",\"j\",\"k\",\"l\",\"m\",\"n\"])"
      ],
      "execution_count": null,
      "outputs": []
    },
    {
      "cell_type": "code",
      "metadata": {
        "id": "W0N5Ij4pmmW2",
        "colab": {
          "base_uri": "https://localhost:8080/",
          "height": 35
        },
        "outputId": "8342860d-9593-48a0-adee-3aca677fdf00"
      },
      "source": [
        "pineapple_pizza.toppings"
      ],
      "execution_count": null,
      "outputs": [
        {
          "output_type": "execute_result",
          "data": {
            "text/plain": [
              "['a', 'b', 'c', 'd', 'h', 'i', 'j', 'k', 'l', 'm', 'n']"
            ]
          },
          "metadata": {
            "tags": []
          },
          "execution_count": 8
        }
      ]
    },
    {
      "cell_type": "markdown",
      "metadata": {
        "id": "90R7zKcKO3B2"
      },
      "source": [
        "Updating the price after adding more toppings!"
      ]
    },
    {
      "cell_type": "code",
      "metadata": {
        "id": "Xl_Quxa7mo4W",
        "colab": {
          "base_uri": "https://localhost:8080/",
          "height": 35
        },
        "outputId": "1b48effa-a6f6-473d-aef2-083c580b353d"
      },
      "source": [
        "pineapple_pizza.update_price(pineapple_pizza.price, pineapple_pizza.toppings)\n",
        "pineapple_pizza.price"
      ],
      "execution_count": null,
      "outputs": [
        {
          "output_type": "execute_result",
          "data": {
            "text/plain": [
              "39"
            ]
          },
          "metadata": {
            "tags": []
          },
          "execution_count": 9
        }
      ]
    },
    {
      "cell_type": "markdown",
      "metadata": {
        "id": "OqLU9VaIO81d"
      },
      "source": [
        "Adding the Pizza to our dictionary (menu if were talking about food), where the name serves as its unique identifier."
      ]
    },
    {
      "cell_type": "code",
      "metadata": {
        "id": "OGvHYH4ioWgc"
      },
      "source": [
        "pineapple_pizza.add_pizz(\"Pineapple Pizza w/ 10 toppings\")"
      ],
      "execution_count": null,
      "outputs": []
    },
    {
      "cell_type": "markdown",
      "metadata": {
        "id": "bMDFh7USPIa2"
      },
      "source": [
        "Tells user if pizza is already on the menu and therefore does not add it again."
      ]
    },
    {
      "cell_type": "code",
      "metadata": {
        "id": "f0YCOcoXreXH",
        "colab": {
          "base_uri": "https://localhost:8080/",
          "height": 35
        },
        "outputId": "91f45a32-cbc1-48b5-a204-a7a234cafe3e"
      },
      "source": [
        "pineapple_pizza.add_pizz(\"Pineapple Pizza w/ 10 toppings\")"
      ],
      "execution_count": null,
      "outputs": [
        {
          "output_type": "stream",
          "text": [
            "This Pizza is already in the menu!\n"
          ],
          "name": "stdout"
        }
      ]
    },
    {
      "cell_type": "code",
      "metadata": {
        "id": "YN_JLHmVp7mC",
        "colab": {
          "base_uri": "https://localhost:8080/",
          "height": 257
        },
        "outputId": "57c1969b-2a14-4ad9-fd0a-60f076fcc92c"
      },
      "source": [
        "Pizza.pizz_menu"
      ],
      "execution_count": null,
      "outputs": [
        {
          "output_type": "execute_result",
          "data": {
            "text/plain": [
              "{'Pineapple Pizza w/ 10 toppings': [['a',\n",
              "   'b',\n",
              "   'c',\n",
              "   'd',\n",
              "   'h',\n",
              "   'i',\n",
              "   'j',\n",
              "   'k',\n",
              "   'l',\n",
              "   'm',\n",
              "   'n'],\n",
              "  39,\n",
              "  'thin']}"
            ]
          },
          "metadata": {
            "tags": []
          },
          "execution_count": 12
        }
      ]
    },
    {
      "cell_type": "code",
      "metadata": {
        "id": "uUWeO-wwqpdK"
      },
      "source": [
        "pepperoni_pizza = Pizza(\"Pepperoni Pizza\", [\"a\", \"b\",\"c\"], 14, \"thick\")"
      ],
      "execution_count": null,
      "outputs": []
    },
    {
      "cell_type": "code",
      "metadata": {
        "id": "ZeHbEpVmq87P",
        "colab": {
          "base_uri": "https://localhost:8080/",
          "height": 35
        },
        "outputId": "442d27b7-a7e3-4166-9343-750f8a6159ec"
      },
      "source": [
        "pepperoni_pizza.price"
      ],
      "execution_count": null,
      "outputs": [
        {
          "output_type": "execute_result",
          "data": {
            "text/plain": [
              "17"
            ]
          },
          "metadata": {
            "tags": []
          },
          "execution_count": 14
        }
      ]
    },
    {
      "cell_type": "code",
      "metadata": {
        "id": "oiLZwp7kq8u2"
      },
      "source": [
        "pepperoni_pizza.add_pizz(\"Pepperoni Pizza w/ 3 toppings\")"
      ],
      "execution_count": null,
      "outputs": []
    },
    {
      "cell_type": "code",
      "metadata": {
        "id": "vlfiK2jKq8eH",
        "colab": {
          "base_uri": "https://localhost:8080/",
          "height": 276
        },
        "outputId": "bef9ace6-0fce-4a68-fe60-95b057475872"
      },
      "source": [
        "Pizza.pizz_menu"
      ],
      "execution_count": null,
      "outputs": [
        {
          "output_type": "execute_result",
          "data": {
            "text/plain": [
              "{'Pepperoni Pizza w/ 3 toppings': [['a', 'b', 'c'], 17, 'thick'],\n",
              " 'Pineapple Pizza w/ 10 toppings': [['a',\n",
              "   'b',\n",
              "   'c',\n",
              "   'd',\n",
              "   'h',\n",
              "   'i',\n",
              "   'j',\n",
              "   'k',\n",
              "   'l',\n",
              "   'm',\n",
              "   'n'],\n",
              "  39,\n",
              "  'thin']}"
            ]
          },
          "metadata": {
            "tags": []
          },
          "execution_count": 16
        }
      ]
    },
    {
      "cell_type": "markdown",
      "metadata": {
        "id": "GvXVFsDdPU2L"
      },
      "source": [
        "Creating a dummy order."
      ]
    },
    {
      "cell_type": "code",
      "metadata": {
        "id": "gXCA06inMcrW"
      },
      "source": [
        "first_order = PizzaOrder(\"Williams Anosike\", datetime.datetime(2020,1,1), 20721, 5, [\"Pepperoni Pizza w/ 3 toppings\",\"Pineapple Pizza w/ 10 toppings\" ])"
      ],
      "execution_count": null,
      "outputs": []
    },
    {
      "cell_type": "markdown",
      "metadata": {
        "id": "qzMWD-q9PYBn"
      },
      "source": [
        "Fetching the price of the order based on the pizzas in it.\n",
        "Promo code applied here was 5% off."
      ]
    },
    {
      "cell_type": "code",
      "metadata": {
        "id": "Xu28sysSM1Fk",
        "colab": {
          "base_uri": "https://localhost:8080/",
          "height": 91
        },
        "outputId": "2e0fbdf8-79b9-482d-d87b-cd38fd9b8ea1"
      },
      "source": [
        "first_order.get_prices()"
      ],
      "execution_count": null,
      "outputs": [
        {
          "output_type": "stream",
          "text": [
            "Sum of order is:  53.199999999999996\n",
            "Order is ready...\n",
            "Deliver order? Y/N: Y\n",
            "Order to be delivered...\n"
          ],
          "name": "stdout"
        }
      ]
    },
    {
      "cell_type": "code",
      "metadata": {
        "id": "W4cxVwApOgcN",
        "colab": {
          "base_uri": "https://localhost:8080/",
          "height": 36
        },
        "outputId": "602aa6e6-a880-459d-bf98-15f10363253b"
      },
      "source": [
        "first_order.order_status"
      ],
      "execution_count": null,
      "outputs": [
        {
          "output_type": "execute_result",
          "data": {
            "application/vnd.google.colaboratory.intrinsic": {
              "type": "string"
            },
            "text/plain": [
              "'ORDER_ON_DELIVERY'"
            ]
          },
          "metadata": {
            "tags": []
          },
          "execution_count": 19
        }
      ]
    },
    {
      "cell_type": "markdown",
      "metadata": {
        "id": "3p3NmLDFPo3e"
      },
      "source": [
        "Added user prompts, which based on their responses changes the order status."
      ]
    },
    {
      "cell_type": "code",
      "metadata": {
        "id": "zp4KXxerwudI",
        "colab": {
          "base_uri": "https://localhost:8080/",
          "height": 35
        },
        "outputId": "9c87288b-3252-40c6-b4d6-fb2fd7396782"
      },
      "source": [
        "first_order.complete_order()"
      ],
      "execution_count": null,
      "outputs": [
        {
          "output_type": "stream",
          "text": [
            "Complete Order? Y/N: Y\n"
          ],
          "name": "stdout"
        }
      ]
    },
    {
      "cell_type": "code",
      "metadata": {
        "id": "kMYsWpFuwzDZ",
        "colab": {
          "base_uri": "https://localhost:8080/",
          "height": 109
        },
        "outputId": "4bc0d12c-19dc-4786-ee60-4ea79984e469"
      },
      "source": [
        "PizzaOrder.order_history"
      ],
      "execution_count": null,
      "outputs": [
        {
          "output_type": "execute_result",
          "data": {
            "text/plain": [
              "{1: ['Williams Anosike',\n",
              "  datetime.datetime(2020, 1, 1, 0, 0),\n",
              "  20721,\n",
              "  ['Pepperoni Pizza w/ 3 toppings', 'Pineapple Pizza w/ 10 toppings'],\n",
              "  53.199999999999996]}"
            ]
          },
          "metadata": {
            "tags": []
          },
          "execution_count": 21
        }
      ]
    },
    {
      "cell_type": "code",
      "metadata": {
        "id": "wHfe1Ymy_OPu"
      },
      "source": [
        "second_order = PizzaOrder(\"Peace Anosike\", datetime.datetime(2020,2,1), 20721, None, [\"Pepperoni Pizza w/ 3 toppings\"])"
      ],
      "execution_count": null,
      "outputs": []
    },
    {
      "cell_type": "code",
      "metadata": {
        "id": "aeY5UbUj_eGq",
        "colab": {
          "base_uri": "https://localhost:8080/",
          "height": 91
        },
        "outputId": "70150c57-b61f-445b-92ee-136c390d6723"
      },
      "source": [
        "second_order.get_prices()"
      ],
      "execution_count": null,
      "outputs": [
        {
          "output_type": "stream",
          "text": [
            "Sum of order is:  17\n",
            "Order is ready...\n",
            "Deliver order? Y/N: Y\n",
            "Order to be delivered...\n"
          ],
          "name": "stdout"
        }
      ]
    },
    {
      "cell_type": "code",
      "metadata": {
        "id": "JLTGyr5e_iZJ",
        "colab": {
          "base_uri": "https://localhost:8080/",
          "height": 35
        },
        "outputId": "9917f56b-3913-42e6-fd4f-520f02a1d09c"
      },
      "source": [
        "second_order.complete_order()"
      ],
      "execution_count": null,
      "outputs": [
        {
          "output_type": "stream",
          "text": [
            "Complete Order? Y/N: Y\n"
          ],
          "name": "stdout"
        }
      ]
    },
    {
      "cell_type": "code",
      "metadata": {
        "id": "tVoQFkMy_oP7",
        "colab": {
          "base_uri": "https://localhost:8080/",
          "height": 202
        },
        "outputId": "c07a9ffd-ce0c-47b0-aa8e-7f50d9cc6c21"
      },
      "source": [
        "PizzaOrder.order_history"
      ],
      "execution_count": null,
      "outputs": [
        {
          "output_type": "execute_result",
          "data": {
            "text/plain": [
              "{1: ['Williams Anosike',\n",
              "  datetime.datetime(2020, 1, 1, 0, 0),\n",
              "  20721,\n",
              "  ['Pepperoni Pizza w/ 3 toppings', 'Pineapple Pizza w/ 10 toppings'],\n",
              "  53.199999999999996],\n",
              " 2: ['Peace Anosike',\n",
              "  datetime.datetime(2020, 2, 1, 0, 0),\n",
              "  20721,\n",
              "  ['Pepperoni Pizza w/ 3 toppings'],\n",
              "  17]}"
            ]
          },
          "metadata": {
            "tags": []
          },
          "execution_count": 25
        }
      ]
    },
    {
      "cell_type": "markdown",
      "metadata": {
        "id": "Wf5U46taMY2A"
      },
      "source": [
        "Example of searching PizzaOrder by Date."
      ]
    },
    {
      "cell_type": "code",
      "metadata": {
        "id": "CxZEeHWNLdVA",
        "colab": {
          "base_uri": "https://localhost:8080/",
          "height": 35
        },
        "outputId": "46b1b899-ce4d-4abd-a0c6-90faa60407a3"
      },
      "source": [
        "PizzaOrder.search_order_date(datetime.datetime(2020,2,1))"
      ],
      "execution_count": null,
      "outputs": [
        {
          "output_type": "stream",
          "text": [
            "['Peace Anosike', datetime.datetime(2020, 2, 1, 0, 0), 20721, ['Pepperoni Pizza w/ 3 toppings'], 17]\n"
          ],
          "name": "stdout"
        }
      ]
    },
    {
      "cell_type": "markdown",
      "metadata": {
        "id": "zIvZFlNxMi10"
      },
      "source": [
        "Example of searching PizzaOrder by Customer."
      ]
    },
    {
      "cell_type": "code",
      "metadata": {
        "id": "hMiEbRV8L_lC",
        "colab": {
          "base_uri": "https://localhost:8080/",
          "height": 35
        },
        "outputId": "6c1201f2-fd8a-49ce-d619-22e795a8ab19"
      },
      "source": [
        "PizzaOrder.search_customer(\"Williams Anosike\")"
      ],
      "execution_count": null,
      "outputs": [
        {
          "output_type": "stream",
          "text": [
            "['Williams Anosike', datetime.datetime(2020, 1, 1, 0, 0), 20721, ['Pepperoni Pizza w/ 3 toppings', 'Pineapple Pizza w/ 10 toppings'], 53.199999999999996]\n"
          ],
          "name": "stdout"
        }
      ]
    },
    {
      "cell_type": "markdown",
      "metadata": {
        "id": "fRMClLADNW4o"
      },
      "source": [
        "Example of showing orders before Date, 02/01/2020."
      ]
    },
    {
      "cell_type": "code",
      "metadata": {
        "id": "b5JYWLUnNDb7",
        "colab": {
          "base_uri": "https://localhost:8080/",
          "height": 35
        },
        "outputId": "31ddfe46-b4ab-4762-ec3e-2ea15faea934"
      },
      "source": [
        "PizzaOrder.order_before_date(datetime.datetime(2020,2,1))"
      ],
      "execution_count": null,
      "outputs": [
        {
          "output_type": "stream",
          "text": [
            "['Williams Anosike', datetime.datetime(2020, 1, 1, 0, 0), 20721, ['Pepperoni Pizza w/ 3 toppings', 'Pineapple Pizza w/ 10 toppings'], 53.199999999999996]\n"
          ],
          "name": "stdout"
        }
      ]
    },
    {
      "cell_type": "markdown",
      "metadata": {
        "id": "aTAATalRNihU"
      },
      "source": [
        "Example of showing orders after Date, 01/01/2020."
      ]
    },
    {
      "cell_type": "code",
      "metadata": {
        "id": "hDoBSqSpNJvz",
        "colab": {
          "base_uri": "https://localhost:8080/",
          "height": 35
        },
        "outputId": "90706f23-bac7-432d-8627-d97afff38c20"
      },
      "source": [
        "PizzaOrder.order_after_date(datetime.datetime(2020,1,1))"
      ],
      "execution_count": null,
      "outputs": [
        {
          "output_type": "stream",
          "text": [
            "['Peace Anosike', datetime.datetime(2020, 2, 1, 0, 0), 20721, ['Pepperoni Pizza w/ 3 toppings'], 17]\n"
          ],
          "name": "stdout"
        }
      ]
    },
    {
      "cell_type": "markdown",
      "metadata": {
        "id": "2rqEOphnOP21"
      },
      "source": [
        "Creating dummy Employees and stores to check if code is working correctly."
      ]
    },
    {
      "cell_type": "code",
      "metadata": {
        "id": "lr67VPsB1Chn"
      },
      "source": [
        "emp1 = Employee(\"Williams Anosike\")\n",
        "emp2 = Employee(\"Lilian Anosike\")\n",
        "emp3 = Employee(\"Peace Anosike\")\n",
        "\n",
        "store1 = Store(\"10112 Bald Hill Rd\", 20721, 2403558804)\n",
        "store2 = Store(\"1000 Hilltop Circle\", 21250, 2403449800)\n",
        "store3 = Store(\"12020 Beltsville Drive\", 20705, 3015269137)"
      ],
      "execution_count": null,
      "outputs": []
    },
    {
      "cell_type": "markdown",
      "metadata": {
        "id": "T1--zrxNOXKy"
      },
      "source": [
        "Outputs a message and tells user if there is store at that zipcode already. Will not add store to store dictionary where all information is housed."
      ]
    },
    {
      "cell_type": "code",
      "metadata": {
        "id": "ZSTCPDhA1648",
        "colab": {
          "base_uri": "https://localhost:8080/",
          "height": 35
        },
        "outputId": "f2771ace-8852-4c25-c3e6-c79a06963643"
      },
      "source": [
        "store4 = Store(\"Blah Blah\", 20721, 224)"
      ],
      "execution_count": null,
      "outputs": [
        {
          "output_type": "stream",
          "text": [
            "There is a store at this zipcode already!\n"
          ],
          "name": "stdout"
        }
      ]
    },
    {
      "cell_type": "markdown",
      "metadata": {
        "id": "9MfBg42yOl0o"
      },
      "source": [
        "Adding Employees to stores."
      ]
    },
    {
      "cell_type": "code",
      "metadata": {
        "id": "cb6ScmwE10Cc"
      },
      "source": [
        "store1.add_emp(emp1.name)\n",
        "store1.add_emp(emp2.name)\n",
        "store2.add_emp(emp3.name)"
      ],
      "execution_count": null,
      "outputs": []
    },
    {
      "cell_type": "code",
      "metadata": {
        "id": "P6nXjNt61szQ",
        "colab": {
          "base_uri": "https://localhost:8080/",
          "height": 109
        },
        "outputId": "bfa8b574-7f4f-40b5-bfc1-e3837870b142"
      },
      "source": [
        "Store.store_dict"
      ],
      "execution_count": null,
      "outputs": [
        {
          "output_type": "execute_result",
          "data": {
            "text/plain": [
              "{20705: ['12020 Beltsville Drive', [], 3015269137],\n",
              " 20721: ['10112 Bald Hill Rd',\n",
              "  ['Williams Anosike', 'Lilian Anosike'],\n",
              "  2403558804],\n",
              " 21250: ['1000 Hilltop Circle', ['Peace Anosike'], 2403449800]}"
            ]
          },
          "metadata": {
            "tags": []
          },
          "execution_count": 33
        }
      ]
    },
    {
      "cell_type": "markdown",
      "metadata": {
        "id": "o6LNEFqvN21P"
      },
      "source": [
        "Generates total sales for the month of January!"
      ]
    },
    {
      "cell_type": "code",
      "metadata": {
        "id": "Gh5gTzqz2mJE",
        "colab": {
          "base_uri": "https://localhost:8080/",
          "height": 35
        },
        "outputId": "52e0360b-fe5c-4fa0-d078-93854fcfb683"
      },
      "source": [
        "store1.monthly_sales(1)"
      ],
      "execution_count": null,
      "outputs": [
        {
          "output_type": "stream",
          "text": [
            "The total sales for the  1  month of the store located at zipcode,  20721  is:  53.199999999999996\n"
          ],
          "name": "stdout"
        }
      ]
    },
    {
      "cell_type": "markdown",
      "metadata": {
        "id": "PIJT4quoN_rC"
      },
      "source": [
        "Generates total sales for the month of February!"
      ]
    },
    {
      "cell_type": "code",
      "metadata": {
        "id": "UlUy77MKBmNz",
        "colab": {
          "base_uri": "https://localhost:8080/",
          "height": 35
        },
        "outputId": "bb18639f-851b-44cb-86b4-af65c7cd863c"
      },
      "source": [
        "store1.monthly_sales(2)"
      ],
      "execution_count": null,
      "outputs": [
        {
          "output_type": "stream",
          "text": [
            "The total sales for the  2  month of the store located at zipcode,  20721  is:  17\n"
          ],
          "name": "stdout"
        }
      ]
    },
    {
      "cell_type": "code",
      "metadata": {
        "id": "_a8khI0tG4FB"
      },
      "source": [
        "cust1 = Customer(\"Professor\", 323232, 21250, 14)"
      ],
      "execution_count": null,
      "outputs": []
    },
    {
      "cell_type": "markdown",
      "metadata": {
        "id": "riIeGAujNvaY"
      },
      "source": [
        "Finding a store in the same zipcode of given customer."
      ]
    },
    {
      "cell_type": "code",
      "metadata": {
        "id": "CXyAcyXDHJOp",
        "colab": {
          "base_uri": "https://localhost:8080/",
          "height": 54
        },
        "outputId": "649bada4-e65c-46e9-cd86-18f375e97a12"
      },
      "source": [
        "cust1.find_store()"
      ],
      "execution_count": null,
      "outputs": [
        {
          "output_type": "stream",
          "text": [
            "Found a store at your location!\n",
            "This store's address is:  1000 Hilltop Circle\n"
          ],
          "name": "stdout"
        }
      ]
    },
    {
      "cell_type": "markdown",
      "metadata": {
        "id": "9LOrQsJGNKpP"
      },
      "source": [
        "Sorting the pizza orders by order date."
      ]
    },
    {
      "cell_type": "code",
      "metadata": {
        "id": "3JJBPy24HWQw"
      },
      "source": [
        "sorted_dict = dict(sorted(PizzaOrder.order_history.items(), key=lambda item: item[1]))"
      ],
      "execution_count": null,
      "outputs": []
    },
    {
      "cell_type": "code",
      "metadata": {
        "id": "H2Uy5cC09ebr",
        "colab": {
          "base_uri": "https://localhost:8080/",
          "height": 202
        },
        "outputId": "2687cdbb-8855-46c5-cfd4-8ff760cd3a8c"
      },
      "source": [
        "sorted_dict"
      ],
      "execution_count": null,
      "outputs": [
        {
          "output_type": "execute_result",
          "data": {
            "text/plain": [
              "{1: ['Williams Anosike',\n",
              "  datetime.datetime(2020, 1, 1, 0, 0),\n",
              "  20721,\n",
              "  ['Pepperoni Pizza w/ 3 toppings', 'Pineapple Pizza w/ 10 toppings'],\n",
              "  53.199999999999996],\n",
              " 2: ['Peace Anosike',\n",
              "  datetime.datetime(2020, 2, 1, 0, 0),\n",
              "  20721,\n",
              "  ['Pepperoni Pizza w/ 3 toppings'],\n",
              "  17]}"
            ]
          },
          "metadata": {
            "tags": []
          },
          "execution_count": 39
        }
      ]
    },
    {
      "cell_type": "markdown",
      "metadata": {
        "id": "efZXQUFaLsqb"
      },
      "source": [
        "The Big O Notation for the searching algortihms used above is O(1). \n",
        "The Big O Notation for the sorting algortihm used above is O(1). I simply used the sorted method to carry it out.\n"
      ]
    }
  ]
}